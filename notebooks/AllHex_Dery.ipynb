{
 "cells": [
  {
   "cell_type": "markdown",
   "metadata": {},
   "source": [
    "<strong>Dependencies</strong>: MeshPy, PyVTK, trimesh\n",
    "\n",
    "<strong>Useful links</strong>:\n",
    " - TetGen : http://wias-berlin.de/software/tetgen/1.5/doc/manual/manual006.html\n",
    " - MeshPy : https://documen.tician.de/meshpy/tri-tet.html#meshpy.tet.MeshInfo.adjacent_elements\n",
    " - SRF BluePrint : http://i.cs.hku.hk/~wenping/allhex.pdf\n",
    " \n",
    " - http://math.stackexchange.com/questions/225246/explanation-about-frames-as-distinct-from-a-co-ordinate-system"
   ]
  },
  {
   "cell_type": "code",
   "execution_count": null,
   "metadata": {
    "collapsed": true
   },
   "outputs": [],
   "source": [
    "## Generate Tetrahedral Mesh"
   ]
  },
  {
   "cell_type": "code",
   "execution_count": null,
   "metadata": {
    "collapsed": true
   },
   "outputs": [],
   "source": [
    "import meshpy\n",
    "from meshpy.tet import MeshInfo, build\n",
    "import numpy as np\n",
    "import trimesh\n",
    "\n",
    "tri_mesh = trimesh.load_mesh('./input/icosphere.stl')\n",
    "\n",
    "# Define MeshPy options!\n",
    "opt = meshpy.tet.Options(switches='pq', edgesout=True, facesout=True, neighout=True)\n",
    "\n",
    "mesh_info = MeshInfo()\n",
    "mesh_info.set_points(tri_mesh.vertices)\n",
    "# Convert face data from np.int64 to int...\n",
    "faces = [list(map(lambda x: int(x), i)) for i in tri_mesh.faces]\n",
    "mesh_info.set_facets(faces)\n",
    "tet_mesh = build(mesh_info, opt, max_volume=10)\n",
    "\n",
    "# Output tetrahedral mesh\n",
    "tet_mesh.write_vtk(\"./output/test.vtk\")"
   ]
  },
  {
   "cell_type": "markdown",
   "metadata": {},
   "source": [
    "## Compute surface curvature\n",
    "\n",
    "#### Some useful information\n",
    "\n",
    " - Internal tetrahedrons have 4 neighbors (one on each face) - the neighbor 4-tuple is the indices of the neighboring tets.\n",
    "\n",
    " - The first neighbor of tetrahedron 'i' is oppposite to the first corner of tetrahedron 'i', and so on.\n",
    "\n",
    " - An index of -1 indicates there is no neighbor."
   ]
  },
  {
   "cell_type": "code",
   "execution_count": null,
   "metadata": {
    "collapsed": true
   },
   "outputs": [],
   "source": [
    "surface_faces = []\n",
    "for i, tet in enumerate(tet_mesh.elements):\n",
    "    \n",
    "    neighbors = list(tet_mesh.neighbors[i])\n",
    "    # Try to get the vertex indices of boundary face.\n",
    "    # TODO(aidan) This only looks at the first boundary face, consider case where a tet has multiple...\n",
    "    if -1 in neighbors:\n",
    "        non_surface_vtx = tet[neighbors.index(-1)]\n",
    "        tet_cpy = tet.copy()\n",
    "        tet_cpy.remove(non_surface_vtx)\n",
    "        surface_faces.append(tet_cpy)\n"
   ]
  },
  {
   "cell_type": "markdown",
   "metadata": {},
   "source": [
    "### Compute normals"
   ]
  },
  {
   "cell_type": "code",
   "execution_count": null,
   "metadata": {
    "collapsed": true
   },
   "outputs": [],
   "source": [
    "# Compute normal\n",
    "def compute_normal(face):\n",
    "    return np.cross(np.array(tet_mesh.points[face[1]]) - np.array(tet_mesh.points[face[0]]),\n",
    "                    np.array(tet_mesh.points[face[2]]) - np.array(tet_mesh.points[face[0]]))\n",
    "\n",
    "def compute_avg(face):\n",
    "    return (np.array(tet_mesh.points[face[0]])\n",
    "          + np.array(tet_mesh.points[face[1]])\n",
    "          + np.array(tet_mesh.points[face[2]])) / 3\n",
    "\n",
    "normals = [compute_normal(face) for face in surface_faces]\n",
    "avg = [compute_avg(face) for face in surface_faces]"
   ]
  },
  {
   "cell_type": "markdown",
   "metadata": {},
   "source": [
    "#### Visualize normals"
   ]
  },
  {
   "cell_type": "code",
   "execution_count": null,
   "metadata": {
    "collapsed": true
   },
   "outputs": [],
   "source": [
    "from mpl_toolkits.mplot3d import proj3d\n",
    "import mpl_toolkits.mplot3d as a3\n",
    "from mpl_toolkits.mplot3d import Axes3D\n",
    "import matplotlib.pyplot as plt\n",
    "\n",
    "fig = plt.figure(num=None, figsize=(12, 10), dpi=80)\n",
    "ax = fig.add_subplot(111, projection='3d')\n",
    "\n",
    "for i, f in enumerate(surface_faces):\n",
    "    ax.quiver(avg[i][0], avg[i][1], avg[i][2], normals[i][0], normals[i][1], normals[i][2])\n",
    "\n",
    "plt.show()"
   ]
  },
  {
   "cell_type": "markdown",
   "metadata": {},
   "source": [
    "### Compute neighbours"
   ]
  },
  {
   "cell_type": "code",
   "execution_count": null,
   "metadata": {
    "collapsed": true
   },
   "outputs": [],
   "source": [
    "# Get neighbours\n",
    "dedup_vertices = set(list(np.concatenate(surface_faces)))\n",
    "surrounding_faces = [[] for _ in range(len(dedup_vertices))]\n",
    "for i, v in enumerate(dedup_vertices):\n",
    "    surrounding_faces[i] = list(filter(lambda f: f[0] == v or f[1] == v or f[2] == v, faces))\n",
    "surrounding_faces\n",
    "\n",
    "\n"
   ]
  }
 ],
 "metadata": {
  "kernelspec": {
   "display_name": "Python 3",
   "language": "python",
   "name": "python3"
  },
  "language_info": {
   "codemirror_mode": {
    "name": "ipython",
    "version": 3
   },
   "file_extension": ".py",
   "mimetype": "text/x-python",
   "name": "python",
   "nbconvert_exporter": "python",
   "pygments_lexer": "ipython3",
   "version": "3.5.1"
  }
 },
 "nbformat": 4,
 "nbformat_minor": 0
}
