{
 "cells": [
  {
   "cell_type": "markdown",
   "metadata": {
    "nbpresent": {
     "id": "a166b05c-68de-4fcb-8bdf-daaeff43764c"
    }
   },
   "source": [
    "<strong>Dependencies</strong>: MeshPy, PyVTK, trimesh\n",
    "\n",
    "<strong>Useful links</strong>:\n",
    " - TetGen : http://wias-berlin.de/software/tetgen/1.5/doc/manual/manual006.html\n",
    " - MeshPy : https://documen.tician.de/meshpy/tri-tet.html#meshpy.tet.MeshInfo.adjacent_elements\n",
    " \n",
    "<strong>Useful research</strong>:\n",
    " - SRF BluePrint : http://i.cs.hku.hk/~wenping/allhex.pdf\n",
    " - QuadCover : \n",
    " - CubeCover : http://tinyurl.com/zd7yj6j\n",
    " - Principal Curvature : http://gfx.cs.princeton.edu/pubs/_2004_ECA/curvpaper.pdf"
   ]
  },
  {
   "cell_type": "code",
   "execution_count": 1,
   "metadata": {
    "collapsed": true
   },
   "outputs": [],
   "source": [
    "import meshpy.tet\n",
    "import numpy as np\n",
    "import trimesh"
   ]
  },
  {
   "cell_type": "markdown",
   "metadata": {},
   "source": [
    "## Generate Tetrahedral Mesh"
   ]
  },
  {
   "cell_type": "code",
   "execution_count": 2,
   "metadata": {
    "collapsed": false,
    "nbpresent": {
     "id": "a1f170a9-bf1d-413e-9ba2-26890da9bb06"
    }
   },
   "outputs": [],
   "source": [
    "tri_mesh = trimesh.load_mesh('../tests/data/cylinder.stl')\n",
    "\n",
    "# Define MeshPy options!\n",
    "opt = meshpy.tet.Options(switches='pq', edgesout=True, facesout=True, neighout=True)\n",
    "\n",
    "mesh_info = meshpy.tet.MeshInfo()\n",
    "mesh_info.set_points(tri_mesh.vertices)\n",
    "# Convert face data from np.int64 to int...\n",
    "faces = [list(map(lambda x: int(x), i)) for i in tri_mesh.faces]\n",
    "mesh_info.set_facets(faces)\n",
    "tet_mesh = meshpy.tet.build(mesh_info, opt, max_volume=10)\n",
    "\n",
    "# Output tetrahedral mesh\n",
    "tet_mesh.write_vtk(\"../tests/data/test.vtk\")"
   ]
  },
  {
   "cell_type": "markdown",
   "metadata": {},
   "source": [
    "## Compute surface normals\n",
    "\n",
    "#### Some useful information\n",
    "\n",
    " - Internal tetrahedrons have 4 neighbors (one on each face) - the neighbor 4-tuple is the indices of the neighboring tets.\n",
    "\n",
    " - The first neighbor of tetrahedron 'i' is oppposite to the first corner of tetrahedron 'i', and so on.\n",
    "\n",
    " - An index of -1 indicates there is no neighbor.\n",
    " \n",
    " - Tetrahedral face orientation:\n",
    " \n",
    "    - 3 - 0 - 1\n",
    " \n",
    "    - 1 - 2 - 3\n",
    "   \n",
    "    - 3 - 2 - 0  (unusual)\n",
    "   \n",
    "    - 2 - 1 - 0  (unusual)\n",
    "   "
   ]
  },
  {
   "cell_type": "code",
   "execution_count": 3,
   "metadata": {
    "collapsed": false,
    "scrolled": true
   },
   "outputs": [],
   "source": [
    "\n",
    "surf_faces = []\n",
    "surf_vertices = []\n",
    "global2surf = dict()\n",
    "\n",
    "for ti, tet in enumerate(tet_mesh.elements):\n",
    "    # Within the neighbors list of each tet, position 'i' contains the index of\n",
    "    # the face adjacent to the tet at face opposing vertex 'i'. A value of -1 \n",
    "    # indicates that the face has no neighbor (i.e. it's a boundary face).\n",
    "    # So, let's find all such occurences in the current tet.\n",
    "    outliers = [i for i, x in enumerate(tet_mesh.neighbors[ti]) if x == -1]\n",
    "    for bound_id in outliers:\n",
    "        v_indices = list(range(4))\n",
    "        v_indices.remove(bound_id)\n",
    "        # If vertex 1 or vertex 3 are not part of the face, the order of the \n",
    "        # vertices must be reversed to obtain an outward facing triangle. Refer\n",
    "        # to TetGen documentation to see why that is.\n",
    "        if 1 not in v_indices or 3 not in v_indices:\n",
    "            v_indices.reverse()\n",
    "        # Get the global vertex indices for the face\n",
    "        face = [tet[i] for i in v_indices]\n",
    "        \n",
    "        # For each vertex on the surface\n",
    "        for vi in face:\n",
    "            # If currently not mapped\n",
    "            if vi not in global2surf:\n",
    "                # Keep track of global to surface\n",
    "                global2surf[vi] = len(surf_vertices)\n",
    "                # Append to the surface vertex list\n",
    "                surf_vertices.append(tet_mesh.points[vi])\n",
    "        \n",
    "        # Translate using the global 2 surface vertex indices map\n",
    "        face = list(map(lambda f: global2surf[f], face))\n",
    "        \n",
    "        surf_faces.append(face)\n",
    "        \n",
    "# Compute normal\n",
    "def compute_normal(face):\n",
    "    return np.cross(np.array(surf_vertices[face[1]]) - np.array(surf_vertices[face[0]]),\n",
    "                    np.array(surf_vertices[face[2]]) - np.array(surf_vertices[face[1]]))\n",
    "\n",
    "def compute_center(face):\n",
    "    return (np.array(surf_vertices[face[0]])\n",
    "          + np.array(surf_vertices[face[1]])\n",
    "          + np.array(surf_vertices[face[2]])) / 3\n",
    "\n",
    "face_normals = [compute_normal(face) for face in surf_faces]\n",
    "face_center = [compute_center(face) for face in surf_faces]"
   ]
  },
  {
   "cell_type": "markdown",
   "metadata": {},
   "source": [
    "### Visualize normals"
   ]
  },
  {
   "cell_type": "code",
   "execution_count": 5,
   "metadata": {
    "collapsed": false
   },
   "outputs": [],
   "source": [
    "from mpl_toolkits.mplot3d import proj3d\n",
    "import mpl_toolkits.mplot3d as a3\n",
    "from mpl_toolkits.mplot3d import Axes3D\n",
    "import matplotlib.pyplot as plt\n",
    "\n",
    "fig = plt.figure(num=None, figsize=(12, 10), dpi=80)\n",
    "ax = fig.add_subplot(111, projection='3d')\n",
    "\n",
    "for i, f in enumerate(surf_faces):\n",
    "    ax.quiver(face_center[i][0], face_center[i][1], face_center[i][2], face_normals[i][0], face_normals[i][1], face_normals[i][2])\n",
    "\n",
    "plt.show()"
   ]
  },
  {
   "cell_type": "markdown",
   "metadata": {},
   "source": [
    "## Compute vertex normals"
   ]
  },
  {
   "cell_type": "code",
   "execution_count": 6,
   "metadata": {
    "collapsed": false
   },
   "outputs": [],
   "source": [
    "v_norms = [ np.zeros(3,) for _ in range(len(surf_vertices)) ]\n",
    "for fi, face in enumerate(surf_faces):\n",
    "    for vi in face:\n",
    "        v_norms[vi] += face_normals[fi]\n",
    "        \n",
    "for normal in v_norms:\n",
    "    normal = normal / np.linalg.norm(normal)"
   ]
  },
  {
   "cell_type": "code",
   "execution_count": 7,
   "metadata": {
    "collapsed": false
   },
   "outputs": [],
   "source": [
    "# Plot vertex normals\n",
    "from mpl_toolkits.mplot3d import proj3d\n",
    "import mpl_toolkits.mplot3d as a3\n",
    "from mpl_toolkits.mplot3d import Axes3D\n",
    "import matplotlib.pyplot as plt\n",
    "\n",
    "fig = plt.figure(num=None, figsize=(12, 10), dpi=80)\n",
    "ax = fig.add_subplot(111, projection='3d')\n",
    "\n",
    "for i, vertex in enumerate(surf_vertices):\n",
    "    ax.quiver(vertex[0], vertex[1], vertex[2], v_norms[i][0], v_norms[i][1], v_norms[i][2])\n",
    "\n",
    "plt.show()"
   ]
  },
  {
   "cell_type": "markdown",
   "metadata": {
    "collapsed": false
   },
   "source": [
    "## Compute Surface Curvature"
   ]
  },
  {
   "cell_type": "code",
   "execution_count": 38,
   "metadata": {
    "collapsed": false
   },
   "outputs": [],
   "source": [
    "\"\"\"\n",
    " Surface Curvature Computation\n",
    " -----------------------------\n",
    " This is a Python implementation of Szymon Rusinkiewicz' paper\n",
    " \"Estimating Curvatures and Their Derivatives on Triangle Meshes\".\n",
    " It is heavily based on his C++ implementation (trimesh2).\n",
    "\"\"\"\n",
    "\n",
    "def normalize(vector):\n",
    "    return vector / np.linalg.norm(vector)\n",
    "\n",
    "# Rotate a coordinate system to be perpendicular to the given normal.\n",
    "def rotate_coord_sys(old_u, old_v, new_norm):\n",
    "    new_u = old_u\n",
    "    new_v = old_v\n",
    "    old_norm = np.cross(old_u, old_v)\n",
    "    # Project old normal onto new normal\n",
    "    ndot = np.dot(old_norm, new_norm)\n",
    "    # If projection is leq to -1, simply reverse\n",
    "    if ndot <= -1:\n",
    "        new_u = -new_u\n",
    "        new_v = -new_v\n",
    "        return new_u, new_v\n",
    "    # Otherwise, compute new normal\n",
    "    perp_old = new_norm - ndot * old_norm\n",
    "    dperp = (old_norm + new_norm) / (1 + ndot)\n",
    "    new_u -= dperp * np.dot(new_u, perp_old)\n",
    "    new_v -= dperp * np.dot(new_v, perp_old)\n",
    "    return new_u, new_v\n",
    "\n",
    "# Reproject curvature tensor from the basis spanned by old uv to the new uv basis.\n",
    "def project_curvature(old_u, old_v, old_ku, old_kuv, old_kv, new_u, new_v):\n",
    "    old_normal = np.cross(old_u, old_v)\n",
    "    # Rotate new coord system to be normal to old, for reprojection\n",
    "    r_new_u, r_new_v = rotate_coord_sys(new_u, new_v, old_normal)\n",
    "    u1 = np.dot(r_new_u, old_u)\n",
    "    v1 = np.dot(r_new_u, old_v)\n",
    "    u2 = np.dot(r_new_v, old_u)\n",
    "    v2 = np.dot(r_new_v, old_v)\n",
    "    new_ku  = old_ku * u1*u1 + old_kuv * (2 * u1*v1) + old_kv * v1*v1\n",
    "    new_kuv = old_ku * u1*u2 + old_kuv * (u1*v2 + u2*v1) + old_kv * v1*v2\n",
    "    new_kv  = old_ku * u2*u2 + old_kuv * (2 * u2*v2) + old_kv * v2*v2\n",
    "\n",
    "    return new_ku, new_kuv, new_kv\n",
    "\n",
    "# Given a curvature tensor, diagonalize to find principal directions and curvatures.\n",
    "def diagonalize_curvature(old_u, old_v, ku, kuv, kv, new_norm):\n",
    "    # Rotate old coord system to be normal to new.\n",
    "    r_old_u, r_old_v = rotate_coord_sys(old_u, old_v, new_norm)\n",
    "    # Jacobi rotation to diagonalize.\n",
    "    c = 1\n",
    "    s = 0\n",
    "    tt = 0\n",
    "    if kuv != 0:\n",
    "        h = 0.5 * (kv - ku) / kuv\n",
    "        if h < 0:\n",
    "            tt = 1 / (h - np.sqrt(1 + h*h))\n",
    "        else:\n",
    "            tt = 1 / (h + np.sqrt(1 + h*h))\n",
    "        c = 1 / np.sqrt(1 + tt*tt)\n",
    "        s = tt * c\n",
    "    # Compute principal curvatures.\n",
    "    k1 = ku - tt * kuv\n",
    "    k2 = kv + tt * kuv\n",
    "    # Compute principal directions.\n",
    "    if abs(k1) >= abs(k2):\n",
    "        pdir1 = c * r_old_u - s * r_old_v\n",
    "    else:\n",
    "        k1, k2 = k2, k1 # Swap\n",
    "        pdir1 = s * r_old_u + c * r_old_v\n",
    "    pdir2 = np.cross(new_norm, pdir1)\n",
    "    # Return all the things.\n",
    "    return pdir1, pdir2, k1, k2\n",
    "\n",
    "# Compute the area \"belonging\" to each vertex or each corner\n",
    "# of a triangle (defined as Voronoi area restricted to the 1-ring of\n",
    "# a vertex, or to the triangle).\n",
    "def compute_pointareas(vertices, faces):\n",
    "\n",
    "    cornerareas = np.zeros( (len(faces), 3) )\n",
    "    pointareas = np.zeros(len(vertices),)\n",
    "\n",
    "    for i, face in enumerate(faces):\n",
    "        # Face edges\n",
    "        e = np.array([ vertices[face[2]] - vertices[face[1]],\n",
    "                       vertices[face[0]] - vertices[face[2]],\n",
    "                       vertices[face[1]] - vertices[face[0]] ])\n",
    "        # Compute corner weights\n",
    "        area = 0.5 * np.linalg.norm(np.cross(e[0], e[1]))\n",
    "        l2 = [ np.linalg.norm(e[0]) ** 2, \n",
    "               np.linalg.norm(e[1]) ** 2,\n",
    "               np.linalg.norm(e[2]) ** 2 ]\n",
    "        ew = [ l2[0] * (l2[1] + l2[2] - l2[0]),\n",
    "               l2[1] * (l2[2] + l2[0] - l2[1]),\n",
    "               l2[2] * (l2[0] + l2[1] - l2[2]) ]\n",
    "        # Case by case based on edge weight\n",
    "        if ew[0] <= 0:\n",
    "            cornerareas[i,1] = -0.25 * l2[2] * area / np.dot(e[0], e[2])\n",
    "            cornerareas[i,2] = -0.25 * l2[1] * area / np.dot(e[0], e[1])\n",
    "            cornerareas[i,0] = area - cornerareas[i,1] - cornerareas[i,2]\n",
    "        elif ew[1] <= 0:\n",
    "            cornerareas[i,2] = -0.25 * l2[0] * area / np.dot(e[1], e[0])\n",
    "            cornerareas[i,0] = -0.25 * l2[2] * area / np.dot(e[1], e[2])\n",
    "            cornerareas[i,1] = area - cornerareas[i,2] - cornerareas[i,0]\n",
    "        elif ew[2] <= 0:\n",
    "            cornerareas[i,0] = -0.25 * l2[1] * area / np.dot(e[2], e[1])\n",
    "            cornerareas[i,1] = -0.25 * l2[0] * area / np.dot(e[2], e[0])\n",
    "            cornerareas[i,2] = area - cornerareas[i,0] - cornerareas[i,1]\n",
    "        else:\n",
    "            ewscale = 0.5 * area / (ew[0] + ew[1] + ew[2])\n",
    "            for j in range(3):\n",
    "                cornerareas[i,j] = ewscale * (ew[(j+1)%3] + ew[(j+2)%3])\n",
    "    \n",
    "        pointareas[face[0]] += cornerareas[i,0]\n",
    "        pointareas[face[1]] += cornerareas[i,1]\n",
    "        pointareas[face[2]] += cornerareas[i,2]\n",
    "\n",
    "    return pointareas, cornerareas\n",
    "\n",
    "# Given the faces, vertices and vertex normals.\n",
    "# Compute principal curvatures and directions.\n",
    "def compute_curvatures(vertices, faces, normals):\n",
    "\n",
    "    # Initialize lists\n",
    "    # @TODO(aidan) Make these objects variables\n",
    "    curv1 = np.zeros(len(vertices),)\n",
    "    curv2 = np.zeros(len(vertices),)\n",
    "    curv12 = np.zeros(len(vertices),)\n",
    "    pdir1 = [ [] for _ in range(len(vertices)) ]\n",
    "    pdir2 = [ [] for _ in range(len(vertices)) ]\n",
    "\n",
    "    # Compute pointareas\n",
    "    pointareas, cornerareas = compute_pointareas(vertices, faces)\n",
    "\n",
    "    # Set up an initial coordinate system per-vertex\n",
    "    for i, face in enumerate(faces):\n",
    "        pdir1[face[0]] = vertices[face[1]] - vertices[face[0]]\n",
    "        pdir1[face[1]] = vertices[face[2]] - vertices[face[1]]\n",
    "        pdir1[face[2]] = vertices[face[0]] - vertices[face[2]]\n",
    "\n",
    "    for i, vertex in enumerate(vertices):\n",
    "        pdir1[i] = normalize(np.cross(pdir1[i], normals[i]))\n",
    "        pdir2[i] = np.cross(normals[i], pdir1[i])\n",
    "\n",
    "    # Compute curvature per-face\n",
    "    for i, face in enumerate(faces):\n",
    "        # Face edges\n",
    "        e = np.array([ vertices[face[2]] - vertices[face[1]],\n",
    "                       vertices[face[0]] - vertices[face[2]],\n",
    "                       vertices[face[1]] - vertices[face[0]] ])\n",
    "        # N-T-B coordinate system per-face\n",
    "        t = normalize(e[0])\n",
    "        n = np.cross(e[0], e[1])\n",
    "        b = normalize(np.cross(n, t))\n",
    "\n",
    "        # Estimate curvature based on variation of\n",
    "        # normals along edges.\n",
    "        m = np.zeros(3,)\n",
    "        w = np.zeros( (3,3) )\n",
    "        for j in range(3):\n",
    "            u =  np.dot(e[j], t)\n",
    "            v =  np.dot(e[j], b)\n",
    "            w[0,0] += u*u\n",
    "            w[0,1] += u*v\n",
    "            w[2,2] += v*v\n",
    "            dn = normals[face[(j-1)%3]] - normals[face[(j+1)%3]]\n",
    "            dnu = np.dot(dn, t)\n",
    "            dnv = np.dot(dn, b)\n",
    "            m[0] += dnu*u\n",
    "            m[1] += dnu*v + dnv*u\n",
    "            m[2] += dnv*v\n",
    "        w[1,1] = w[0,0] + w[2,2]\n",
    "        w[1,2] = w[0,1]\n",
    "        w[2,1] = w[1,2]\n",
    "        w[1,0] = w[0,1]\n",
    "        \n",
    "        # Least squares solution.\n",
    "        x, residuals, rank, s = np.linalg.lstsq(w,m)\n",
    "\n",
    "        # Push it back out to the vertices.\n",
    "        for j in range(3):\n",
    "            vj = face[j]\n",
    "            c1, c12, c2 = project_curvature(t, b, x[0], x[1], x[2],\n",
    "                                            pdir1[vj], pdir2[vj])\n",
    "            weight = cornerareas[i,j] / pointareas[vj]\n",
    "            curv1[vj] = weight * c1\n",
    "            curv12[vj] = weight * c12\n",
    "            curv2[vj] = weight * c2\n",
    "    \n",
    "    # Compute principal directions and curvatures at each vertex.\n",
    "    k1 = np.zeros(len(vertices),)\n",
    "    k2 = np.zeros(len(vertices),)\n",
    "    dir1 = [ [] for _ in range(len(vertices)) ]\n",
    "    dir2 = [ [] for _ in range(len(vertices)) ]\n",
    "    \n",
    "    for i, vertex in enumerate(vertices):\n",
    "        dir1[i], dir2[i], k1[i], k2[i] = \\\n",
    "            diagonalize_curvature(pdir1[i], pdir2[i], curv1[i], \n",
    "                                  curv12[i], curv2[i], normals[i])\n",
    "    \n",
    "    # Sliced bread.\n",
    "    return k1, k2, dir1, dir2"
   ]
  },
  {
   "cell_type": "code",
   "execution_count": 39,
   "metadata": {
    "collapsed": false
   },
   "outputs": [
    {
     "name": "stderr",
     "output_type": "stream",
     "text": [
      "/home/dnkrtz/anaconda3/lib/python3.5/site-packages/ipykernel/__main__.py:25: RuntimeWarning: overflow encountered in multiply\n",
      "/home/dnkrtz/anaconda3/lib/python3.5/site-packages/numpy/core/numeric.py:1732: RuntimeWarning: invalid value encountered in subtract\n",
      "  cp0 -= tmp\n",
      "/home/dnkrtz/anaconda3/lib/python3.5/site-packages/numpy/core/numeric.py:1735: RuntimeWarning: invalid value encountered in subtract\n",
      "  cp1 -= tmp\n",
      "/home/dnkrtz/anaconda3/lib/python3.5/site-packages/numpy/core/numeric.py:1738: RuntimeWarning: invalid value encountered in subtract\n",
      "  cp2 -= tmp\n"
     ]
    }
   ],
   "source": [
    "k1, k2, dir1, dir2 = [],[],[],[]\n",
    "\n",
    "k1, k2, dir1, dir2 = compute_curvatures(np.array(surf_vertices), surf_faces, v_norms)"
   ]
  },
  {
   "cell_type": "raw",
   "metadata": {
    "collapsed": false
   },
   "source": [
    "surf_faces[0]\n"
   ]
  },
  {
   "cell_type": "markdown",
   "metadata": {},
   "source": [
    "### Visualize curvature"
   ]
  },
  {
   "cell_type": "code",
   "execution_count": 36,
   "metadata": {
    "collapsed": false
   },
   "outputs": [],
   "source": [
    "from mpl_toolkits.mplot3d import proj3d\n",
    "import mpl_toolkits.mplot3d as a3\n",
    "from mpl_toolkits.mplot3d import Axes3D\n",
    "import matplotlib.pyplot as plt\n",
    "\n",
    "fig = plt.figure(num=None, figsize=(12, 10), dpi=80)\n",
    "ax = fig.add_subplot(111, projection='3d')\n",
    "\n",
    "for i, v in enumerate(list(dedup_vertices)):\n",
    "    i = int(i)\n",
    "    v = int(v)\n",
    "    maxc = [max_curv[i][0,0], max_curv[i][1,1], max_curv[i][2,2]]\n",
    "    minc = [min_curv[i][0,0], min_curv[i][1,1], min_curv[i][2,2]]\n",
    "    ax.quiver(tet_mesh.points[v][0], tet_mesh.points[v][1], tet_mesh.points[v][2], maxc[0], maxc[1], maxc[2])\n",
    "    ax.quiver(tet_mesh.points[v][0], tet_mesh.points[v][1], tet_mesh.points[v][2], minc[0], minc[1], minc[2])\n",
    "\n",
    "#drawmesh()\n",
    "\n",
    "plt.show()"
   ]
  },
  {
   "cell_type": "code",
   "execution_count": null,
   "metadata": {
    "collapsed": true
   },
   "outputs": [],
   "source": []
  }
 ],
 "metadata": {
  "anaconda-cloud": {},
  "kernelspec": {
   "display_name": "Python [Root]",
   "language": "python",
   "name": "Python [Root]"
  },
  "language_info": {
   "codemirror_mode": {
    "name": "ipython",
    "version": 3
   },
   "file_extension": ".py",
   "mimetype": "text/x-python",
   "name": "python",
   "nbconvert_exporter": "python",
   "pygments_lexer": "ipython3",
   "version": "3.5.2"
  },
  "nbpresent": {
   "slides": {},
   "themes": {
    "default": "d20a818a-28b9-4195-b4c8-8121cf5d6398",
    "theme": {
     "4bb4dca7-87ac-46a1-9a84-e60522acade6": {
      "id": "4bb4dca7-87ac-46a1-9a84-e60522acade6",
      "palette": {
       "19cc588f-0593-49c9-9f4b-e4d7cc113b1c": {
        "id": "19cc588f-0593-49c9-9f4b-e4d7cc113b1c",
        "rgb": [
         252,
         252,
         252
        ]
       },
       "31af15d2-7e15-44c5-ab5e-e04b16a89eff": {
        "id": "31af15d2-7e15-44c5-ab5e-e04b16a89eff",
        "rgb": [
         68,
         68,
         68
        ]
       },
       "50f92c45-a630-455b-aec3-788680ec7410": {
        "id": "50f92c45-a630-455b-aec3-788680ec7410",
        "rgb": [
         155,
         177,
         192
        ]
       },
       "c5cc3653-2ee1-402a-aba2-7caae1da4f6c": {
        "id": "c5cc3653-2ee1-402a-aba2-7caae1da4f6c",
        "rgb": [
         43,
         126,
         184
        ]
       },
       "efa7f048-9acb-414c-8b04-a26811511a21": {
        "id": "efa7f048-9acb-414c-8b04-a26811511a21",
        "rgb": [
         25.118061674008803,
         73.60176211453744,
         107.4819383259912
        ]
       }
      },
      "rules": {
       "blockquote": {
        "color": "50f92c45-a630-455b-aec3-788680ec7410"
       },
       "code": {
        "font-family": "Anonymous Pro"
       },
       "h1": {
        "color": "c5cc3653-2ee1-402a-aba2-7caae1da4f6c",
        "font-family": "Lato",
        "font-size": 8
       },
       "h2": {
        "color": "c5cc3653-2ee1-402a-aba2-7caae1da4f6c",
        "font-family": "Lato",
        "font-size": 6
       },
       "h3": {
        "color": "50f92c45-a630-455b-aec3-788680ec7410",
        "font-family": "Lato",
        "font-size": 5.5
       },
       "h4": {
        "color": "c5cc3653-2ee1-402a-aba2-7caae1da4f6c",
        "font-family": "Lato",
        "font-size": 5
       },
       "h5": {
        "font-family": "Lato"
       },
       "h6": {
        "font-family": "Lato"
       },
       "h7": {
        "font-family": "Lato"
       },
       "pre": {
        "font-family": "Anonymous Pro",
        "font-size": 4
       }
      },
      "text-base": {
       "font-family": "Merriweather",
       "font-size": 4
      }
     },
     "52e47231-9526-47e4-a88d-5687bed02d17": {
      "backgrounds": {
       "backgroundColor": {
        "background-color": "backgroundColor",
        "id": "backgroundColor"
       }
      },
      "id": "52e47231-9526-47e4-a88d-5687bed02d17",
      "palette": {
       "backgroundColor": {
        "id": "backgroundColor",
        "rgb": [
         247,
         251,
         252
        ]
       },
       "headingColor": {
        "id": "headingColor",
        "rgb": [
         51,
         51,
         51
        ]
       },
       "linkColor": {
        "id": "linkColor",
        "rgb": [
         59,
         117,
         158
        ]
       },
       "mainColor": {
        "id": "mainColor",
        "rgb": [
         51,
         51,
         51
        ]
       }
      },
      "rules": {
       "a": {
        "color": "linkColor"
       },
       "h1": {
        "color": "headingColor",
        "font-family": "Quicksand",
        "font-size": 7
       },
       "h2": {
        "color": "headingColor",
        "font-family": "Quicksand",
        "font-size": 5
       },
       "h3": {
        "color": "headingColor",
        "font-family": "Quicksand",
        "font-size": 3.75
       },
       "h4": {
        "color": "headingColor",
        "font-family": "Quicksand",
        "font-size": 3
       },
       "h5": {
        "color": "headingColor",
        "font-family": "Quicksand"
       },
       "h6": {
        "color": "headingColor",
        "font-family": "Quicksand"
       },
       "h7": {
        "color": "headingColor",
        "font-family": "Quicksand"
       },
       "li": {
        "color": "mainColor",
        "font-family": "Open Sans",
        "font-size": 5
       },
       "p": {
        "color": "mainColor",
        "font-family": "Open Sans",
        "font-size": 5
       }
      },
      "text-base": {
       "color": "mainColor",
       "font-family": "Open Sans",
       "font-size": 5
      }
     },
     "c571b9b5-5ca9-4444-a23f-c524cb7000f3": {
      "backgrounds": {
       "backgroundColor": {
        "background-color": "backgroundColor",
        "id": "backgroundColor"
       }
      },
      "id": "c571b9b5-5ca9-4444-a23f-c524cb7000f3",
      "palette": {
       "backgroundColor": {
        "id": "backgroundColor",
        "rgb": [
         247,
         251,
         252
        ]
       },
       "headingColor": {
        "id": "headingColor",
        "rgb": [
         51,
         51,
         51
        ]
       },
       "linkColor": {
        "id": "linkColor",
        "rgb": [
         59,
         117,
         158
        ]
       },
       "mainColor": {
        "id": "mainColor",
        "rgb": [
         51,
         51,
         51
        ]
       }
      },
      "rules": {
       "a": {
        "color": "linkColor"
       },
       "h1": {
        "color": "headingColor",
        "font-family": "Quicksand",
        "font-size": 7
       },
       "h2": {
        "color": "headingColor",
        "font-family": "Quicksand",
        "font-size": 5
       },
       "h3": {
        "color": "headingColor",
        "font-family": "Quicksand",
        "font-size": 3.75
       },
       "h4": {
        "color": "headingColor",
        "font-family": "Quicksand",
        "font-size": 3
       },
       "h5": {
        "color": "headingColor",
        "font-family": "Quicksand"
       },
       "h6": {
        "color": "headingColor",
        "font-family": "Quicksand"
       },
       "h7": {
        "color": "headingColor",
        "font-family": "Quicksand"
       },
       "li": {
        "color": "mainColor",
        "font-family": "Open Sans",
        "font-size": 5
       },
       "p": {
        "color": "mainColor",
        "font-family": "Open Sans",
        "font-size": 5
       }
      },
      "text-base": {
       "color": "mainColor",
       "font-family": "Open Sans",
       "font-size": 5
      }
     },
     "d20a818a-28b9-4195-b4c8-8121cf5d6398": {
      "backgrounds": {
       "backgroundColor": {
        "background-color": "backgroundColor",
        "id": "backgroundColor"
       }
      },
      "id": "d20a818a-28b9-4195-b4c8-8121cf5d6398",
      "palette": {
       "backgroundColor": {
        "id": "backgroundColor",
        "rgb": [
         247,
         251,
         252
        ]
       },
       "headingColor": {
        "id": "headingColor",
        "rgb": [
         51,
         51,
         51
        ]
       },
       "linkColor": {
        "id": "linkColor",
        "rgb": [
         59,
         117,
         158
        ]
       },
       "mainColor": {
        "id": "mainColor",
        "rgb": [
         51,
         51,
         51
        ]
       }
      },
      "rules": {
       "a": {
        "color": "linkColor"
       },
       "h1": {
        "color": "headingColor",
        "font-family": "Quicksand",
        "font-size": 7
       },
       "h2": {
        "color": "headingColor",
        "font-family": "Quicksand",
        "font-size": 5
       },
       "h3": {
        "color": "headingColor",
        "font-family": "Quicksand",
        "font-size": 3.75
       },
       "h4": {
        "color": "headingColor",
        "font-family": "Quicksand",
        "font-size": 3
       },
       "h5": {
        "color": "headingColor",
        "font-family": "Quicksand"
       },
       "h6": {
        "color": "headingColor",
        "font-family": "Quicksand"
       },
       "h7": {
        "color": "headingColor",
        "font-family": "Quicksand"
       },
       "li": {
        "color": "mainColor",
        "font-family": "Open Sans",
        "font-size": 5
       },
       "p": {
        "color": "mainColor",
        "font-family": "Open Sans",
        "font-size": 5
       }
      },
      "text-base": {
       "color": "mainColor",
       "font-family": "Open Sans",
       "font-size": 5
      }
     }
    }
   }
  }
 },
 "nbformat": 4,
 "nbformat_minor": 0
}
