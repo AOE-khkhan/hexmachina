{
 "cells": [
  {
   "cell_type": "markdown",
   "metadata": {
    "nbpresent": {
     "id": "a166b05c-68de-4fcb-8bdf-daaeff43764c"
    }
   },
   "source": [
    "<strong>Dependencies</strong>: MeshPy, PyVTK, trimesh\n",
    "\n",
    "<strong>Useful links</strong>:\n",
    " - TetGen : http://wias-berlin.de/software/tetgen/1.5/doc/manual/manual006.html\n",
    " - MeshPy : https://documen.tician.de/meshpy/tri-tet.html#meshpy.tet.MeshInfo.adjacent_elements\n",
    " \n",
    "<strong>Useful research</strong>:\n",
    " - SRF BluePrint : http://i.cs.hku.hk/~wenping/allhex.pdf\n",
    " - QuadCover : \n",
    " - CubeCover : http://tinyurl.com/zd7yj6j\n",
    " - Principal Curvature : http://gfx.cs.princeton.edu/pubs/_2004_ECA/curvpaper.pdf"
   ]
  },
  {
   "cell_type": "code",
   "execution_count": 1,
   "metadata": {
    "collapsed": true
   },
   "outputs": [],
   "source": [
    "import meshpy.tet\n",
    "import numpy as np\n",
    "import trimesh"
   ]
  },
  {
   "cell_type": "markdown",
   "metadata": {},
   "source": [
    "## Generate Tetrahedral Mesh"
   ]
  },
  {
   "cell_type": "code",
   "execution_count": 2,
   "metadata": {
    "collapsed": false,
    "nbpresent": {
     "id": "a1f170a9-bf1d-413e-9ba2-26890da9bb06"
    }
   },
   "outputs": [],
   "source": [
    "tri_mesh = trimesh.load_mesh('../data/cylinder.stl')\n",
    "\n",
    "# Define MeshPy options!\n",
    "opt = meshpy.tet.Options(switches='pq', edgesout=True, facesout=True, neighout=True)\n",
    "\n",
    "mesh_info = meshpy.tet.MeshInfo()\n",
    "mesh_info.set_points(tri_mesh.vertices)\n",
    "# Convert face data from np.int64 to int...\n",
    "faces = [list(map(lambda x: int(x), i)) for i in tri_mesh.faces]\n",
    "mesh_info.set_facets(faces)\n",
    "tet_mesh = meshpy.tet.build(mesh_info, opt, max_volume=10)\n",
    "\n",
    "# Output tetrahedral mesh\n",
    "tet_mesh.write_vtk(\"../data/test.vtk\")"
   ]
  },
  {
   "cell_type": "markdown",
   "metadata": {},
   "source": [
    "## Compute surface normals\n",
    "\n",
    "#### Some useful information\n",
    "\n",
    " - Internal tetrahedrons have 4 neighbors (one on each face) - the neighbor 4-tuple is the indices of the neighboring tets.\n",
    "\n",
    " - The first neighbor of tetrahedron 'i' is oppposite to the first corner of tetrahedron 'i', and so on.\n",
    "\n",
    " - An index of -1 indicates there is no neighbor.\n",
    " \n",
    " - Tetrahedral face orientation:\n",
    " \n",
    "    - 3 - 0 - 1\n",
    " \n",
    "    - 1 - 2 - 3\n",
    "   \n",
    "    - 3 - 2 - 0  (unusual)\n",
    "   \n",
    "    - 2 - 1 - 0  (unusual)\n",
    "   "
   ]
  },
  {
   "cell_type": "code",
   "execution_count": 20,
   "metadata": {
    "collapsed": false,
    "scrolled": true
   },
   "outputs": [],
   "source": [
    "surface_faces = []\n",
    "for i, tet in enumerate(tet_mesh.elements):\n",
    "    neighbors = list(tet_mesh.neighbors[i])\n",
    "    # TODO(aidan) This overlooks case of multiple surface faces...\n",
    "    try:\n",
    "        non_surface_vtx = tet[neighbors.index(-1)]\n",
    "        tet_cpy = tet.copy()\n",
    "        tet_cpy.remove(non_surface_vtx)\n",
    "        if neighbors.index(-1) in (1, 3):\n",
    "            tet_cpy.reverse()\n",
    "        surface_faces.append(tet_cpy)\n",
    "    except ValueError:\n",
    "        continue\n",
    "        \n",
    "# Compute normal\n",
    "def compute_normal(face):\n",
    "    return np.cross(np.array(tet_mesh.points[face[1]]) - np.array(tet_mesh.points[face[0]]),\n",
    "                    np.array(tet_mesh.points[face[2]]) - np.array(tet_mesh.points[face[1]]))\n",
    "\n",
    "def compute_avg(face):\n",
    "    return (np.array(tet_mesh.points[face[0]])\n",
    "          + np.array(tet_mesh.points[face[1]])\n",
    "          + np.array(tet_mesh.points[face[2]])) / 3\n",
    "\n",
    "face_normals = [compute_normal(face) for face in surface_faces]\n",
    "face_center = [compute_avg(face) for face in surface_faces]"
   ]
  },
  {
   "cell_type": "markdown",
   "metadata": {},
   "source": [
    "### Visualize normals"
   ]
  },
  {
   "cell_type": "code",
   "execution_count": 21,
   "metadata": {
    "collapsed": true
   },
   "outputs": [],
   "source": [
    "from mpl_toolkits.mplot3d import proj3d\n",
    "import mpl_toolkits.mplot3d as a3\n",
    "from mpl_toolkits.mplot3d import Axes3D\n",
    "import matplotlib.pyplot as plt\n",
    "\n",
    "fig = plt.figure(num=None, figsize=(12, 10), dpi=80)\n",
    "ax = fig.add_subplot(111, projection='3d')\n",
    "\n",
    "for i, f in enumerate(surface_faces):\n",
    "    ax.quiver(face_center[i][0], face_center[i][1], face_center[i][2], face_normals[i][0], face_normals[i][1], face_normals[i][2])\n",
    "\n",
    "plt.show()"
   ]
  },
  {
   "cell_type": "markdown",
   "metadata": {},
   "source": [
    "## Compute surface curvatures"
   ]
  },
  {
   "cell_type": "code",
   "execution_count": 22,
   "metadata": {
    "collapsed": true
   },
   "outputs": [],
   "source": [
    "# Compute one-ring neighborhoods\n",
    "dedup_vertices = set(list(np.concatenate(surface_faces)))\n",
    "surrounding_faces = {}\n",
    "for i, v in enumerate(dedup_vertices):\n",
    "    surrounding_faces[v] = list(filter(lambda f: f[1][0] == v or f[1][1] == v or f[1][2] == v, zip(range(0, len(surface_faces)), surface_faces)))"
   ]
  },
  {
   "cell_type": "code",
   "execution_count": 29,
   "metadata": {
    "collapsed": false
   },
   "outputs": [
    {
     "data": {
      "text/plain": [
       "array([ 0.82856348, -0.01222879, -1.33190271])"
      ]
     },
     "execution_count": 29,
     "metadata": {},
     "output_type": "execute_result"
    }
   ],
   "source": [
    "# Compute vertex normals\n",
    "from numpy import vstack\n",
    "\n",
    "def get_vertex_norm(face):\n",
    "    return vstack([face_normals[ind] for ind, f in faces]).mean(axis=0)\n",
    "\n",
    "v_norms = {}\n",
    "for i, v in enumerate(dedup_vertices):\n",
    "    faces = surrounding_faces[v]\n",
    "    v_norms[v] = get_vertex_norm(faces)"
   ]
  },
  {
   "cell_type": "code",
   "execution_count": 24,
   "metadata": {
    "collapsed": true
   },
   "outputs": [],
   "source": [
    "# Plot vertex normals\n",
    "from mpl_toolkits.mplot3d import proj3d\n",
    "import mpl_toolkits.mplot3d as a3\n",
    "from mpl_toolkits.mplot3d import Axes3D\n",
    "import matplotlib.pyplot as plt\n",
    "\n",
    "fig = plt.figure(num=None, figsize=(12, 10), dpi=80)\n",
    "ax = fig.add_subplot(111, projection='3d')\n",
    "\n",
    "for i in dedup_vertices:\n",
    "    i = int(i)\n",
    "    ax.quiver(tet_mesh.points[i][0], tet_mesh.points[i][1], tet_mesh.points[i][2], v_norms[i][0], v_norms[i][1], v_norms[i][2])\n",
    "\n",
    "plt.show()"
   ]
  },
  {
   "cell_type": "code",
   "execution_count": 34,
   "metadata": {
    "collapsed": false
   },
   "outputs": [],
   "source": [
    "\"\"\" COMPUTE CURVATURE \"\"\"\n",
    "\n",
    "from numpy import linalg, transpose, dot, cross, multiply\n",
    "from numpy.linalg import eig, norm\n",
    "\n",
    "\n",
    "def length(v):\n",
    "    return linalg.norm(v)\n",
    "\n",
    "def Matrix(arr_of_3):\n",
    "    m = np.zeros((3, 3))\n",
    "    m[0][0] = arr_of_3[0]\n",
    "    m[1][1] = arr_of_3[1]\n",
    "    m[2][2] = arr_of_3[2]\n",
    "    return m\n",
    "\n",
    "def get_vertices_from_faces(v):\n",
    "    ring = list(set(np.concatenate([vert for ind, vert in surrounding_faces[v]])))\n",
    "    ring.remove(v)\n",
    "    return ring\n",
    "\n",
    "def get_complement_basis(normal):\n",
    "    if normal[2] \n",
    "\n",
    "max_curv = []\n",
    "min_curv = []\n",
    "\n",
    "for face in surface_faces:\n",
    "    \n",
    "    SFT = [] \n",
    "    \n",
    "    e0 = np.array(face[2]) - np.array(face[1])\n",
    "    e1 = np.array(face[0]) - np.array(face[2])\n",
    "    e2 = np.array(face[1]) - np.array(face[0])\n",
    "\n",
    "    n0 = np.array(v_norms[0])\n",
    "    n1 = np.array(v_norms[1])\n",
    "    n2 = np.array(v_norms[2])\n",
    "    \n",
    "    \n",
    "    \n",
    "    \n",
    "\"\"\"\n",
    "# Iterate through each vertex\n",
    "for i, v in enumerate(dedup_vertices):\n",
    "    v = int(v)\n",
    "    position = np.array(tet_mesh.points[v])\n",
    "    # Vertex normal as a matrix\n",
    "    n0 = np.array(v_norms[v]) / length(v_norms[v])\n",
    "\n",
    "    # Unsorted ring\n",
    "    ring = get_vertices_from_faces(v)\n",
    "    \n",
    "    # Calculate Mvi\n",
    "    I = np.identity(3)\n",
    "    Mvi = np.zeros((3, 3))\n",
    "\n",
    "    curvature = np.zeros((len(ring),))\n",
    "    Mvi = np.zeros((3, 3))\n",
    "\n",
    "    for i, j in enumerate(ring):\n",
    "        n1 = np.array(v_norms[j])\n",
    "        vec = np.array(position) - np.array(tet_mesh.points[int(j)])\n",
    "        # edgeAsMatrix = Matrix([vec[0], vec[1], vec[2]])\n",
    "        curvature[i] = dot((2 * n0), vec) / (length(vec) ** 2)\n",
    "        Mvi += curvature[i] * transpose(np.matrix(vec)) * vec\n",
    "\n",
    "    # givens_rotation\n",
    "    maxc, minc = givens_rotation(Mvi)\n",
    "    max_curv.append(maxc)\n",
    "    min_curv.append(minc)\n",
    "    \n",
    "    # Get eigenvalues and eigenvectors for Mvi\n",
    "    evals, evecs = eig(Mvi)\n",
    "\"\"\""
   ]
  },
  {
   "cell_type": "code",
   "execution_count": 35,
   "metadata": {
    "collapsed": true
   },
   "outputs": [],
   "source": [
    "def gram_schmidt_process(A):\n",
    "    \"\"\"Perform QR decomposition of matrix A using Gram-Schmidt process.\"\"\"\n",
    "    (num_rows, num_cols) = np.shape(A)\n",
    "\n",
    "    # Initialize empty orthogonal matrix Q.\n",
    "    Q = np.empty([num_rows, num_rows])\n",
    "    cnt = 0\n",
    "\n",
    "    # Compute orthogonal matrix Q.\n",
    "    for a in A.T:\n",
    "        u = np.copy(a)\n",
    "        for i in range(0, cnt):\n",
    "            proj = np.dot(np.dot(Q[:, i].T, a), Q[:, i])\n",
    "            u -= proj\n",
    "\n",
    "        e = u / np.linalg.norm(u)\n",
    "        Q[:, cnt] = e\n",
    "\n",
    "        cnt += 1  # Increase columns counter.\n",
    "\n",
    "    # Compute upper triangular matrix R.\n",
    "    R = np.dot(Q.T, A)\n",
    "\n",
    "    return (Q, R)\n",
    "\n",
    "\n",
    "from math import copysign, hypot\n",
    "def givens_rotation(A):\n",
    "    \"\"\"Perform QR decomposition of matrix A using Givens rotation.\"\"\"\n",
    "    (num_rows, num_cols) = np.shape(A)\n",
    "\n",
    "    # Initialize orthogonal matrix Q and upper triangular matrix R.\n",
    "    Q = np.identity(num_rows)\n",
    "    R = np.copy(A)\n",
    "\n",
    "    # Iterate over lower triangular matrix.\n",
    "    (rows, cols) = np.tril_indices(num_rows, -1, num_cols)\n",
    "    for (row, col) in zip(rows, cols):\n",
    "\n",
    "        # Compute Givens rotation matrix and\n",
    "        # zero-out lower triangular matrix entries.\n",
    "        if R[row, col] != 0:\n",
    "            (c, s) = _givens_rotation_matrix_entries(R[col, col], R[row, col])\n",
    "\n",
    "            G = np.identity(num_rows)\n",
    "            G[[col, row], [col, row]] = c\n",
    "            G[row, col] = s\n",
    "            G[col, row] = -s\n",
    "\n",
    "            R = np.dot(G, R)\n",
    "            Q = np.dot(Q, G.T)\n",
    "\n",
    "    return (Q, R)\n",
    "\n",
    "def _givens_rotation_matrix_entries(a, b):\n",
    "    \"\"\"Compute matrix entries for Givens rotation.\"\"\"\n",
    "    r = hypot(a, b)\n",
    "    c = a/r\n",
    "    s = -b/r\n",
    "\n",
    "    return (c, s)"
   ]
  },
  {
   "cell_type": "markdown",
   "metadata": {},
   "source": [
    "### Visualize curvature"
   ]
  },
  {
   "cell_type": "code",
   "execution_count": 36,
   "metadata": {
    "collapsed": false
   },
   "outputs": [],
   "source": [
    "from mpl_toolkits.mplot3d import proj3d\n",
    "import mpl_toolkits.mplot3d as a3\n",
    "from mpl_toolkits.mplot3d import Axes3D\n",
    "import matplotlib.pyplot as plt\n",
    "\n",
    "fig = plt.figure(num=None, figsize=(12, 10), dpi=80)\n",
    "ax = fig.add_subplot(111, projection='3d')\n",
    "\n",
    "for i, v in enumerate(list(dedup_vertices)):\n",
    "    i = int(i)\n",
    "    v = int(v)\n",
    "    maxc = [max_curv[i][0,0], max_curv[i][1,1], max_curv[i][2,2]]\n",
    "    minc = [min_curv[i][0,0], min_curv[i][1,1], min_curv[i][2,2]]\n",
    "    ax.quiver(tet_mesh.points[v][0], tet_mesh.points[v][1], tet_mesh.points[v][2], maxc[0], maxc[1], maxc[2])\n",
    "    ax.quiver(tet_mesh.points[v][0], tet_mesh.points[v][1], tet_mesh.points[v][2], minc[0], minc[1], minc[2])\n",
    "\n",
    "#drawmesh()\n",
    "\n",
    "plt.show()"
   ]
  },
  {
   "cell_type": "code",
   "execution_count": null,
   "metadata": {
    "collapsed": true
   },
   "outputs": [],
   "source": []
  }
 ],
 "metadata": {
  "anaconda-cloud": {},
  "kernelspec": {
   "display_name": "Python [Root]",
   "language": "python",
   "name": "Python [Root]"
  },
  "language_info": {
   "codemirror_mode": {
    "name": "ipython",
    "version": 3
   },
   "file_extension": ".py",
   "mimetype": "text/x-python",
   "name": "python",
   "nbconvert_exporter": "python",
   "pygments_lexer": "ipython3",
   "version": "3.5.2"
  },
  "nbpresent": {
   "slides": {},
   "themes": {
    "default": "d20a818a-28b9-4195-b4c8-8121cf5d6398",
    "theme": {
     "4bb4dca7-87ac-46a1-9a84-e60522acade6": {
      "id": "4bb4dca7-87ac-46a1-9a84-e60522acade6",
      "palette": {
       "19cc588f-0593-49c9-9f4b-e4d7cc113b1c": {
        "id": "19cc588f-0593-49c9-9f4b-e4d7cc113b1c",
        "rgb": [
         252,
         252,
         252
        ]
       },
       "31af15d2-7e15-44c5-ab5e-e04b16a89eff": {
        "id": "31af15d2-7e15-44c5-ab5e-e04b16a89eff",
        "rgb": [
         68,
         68,
         68
        ]
       },
       "50f92c45-a630-455b-aec3-788680ec7410": {
        "id": "50f92c45-a630-455b-aec3-788680ec7410",
        "rgb": [
         155,
         177,
         192
        ]
       },
       "c5cc3653-2ee1-402a-aba2-7caae1da4f6c": {
        "id": "c5cc3653-2ee1-402a-aba2-7caae1da4f6c",
        "rgb": [
         43,
         126,
         184
        ]
       },
       "efa7f048-9acb-414c-8b04-a26811511a21": {
        "id": "efa7f048-9acb-414c-8b04-a26811511a21",
        "rgb": [
         25.118061674008803,
         73.60176211453744,
         107.4819383259912
        ]
       }
      },
      "rules": {
       "blockquote": {
        "color": "50f92c45-a630-455b-aec3-788680ec7410"
       },
       "code": {
        "font-family": "Anonymous Pro"
       },
       "h1": {
        "color": "c5cc3653-2ee1-402a-aba2-7caae1da4f6c",
        "font-family": "Lato",
        "font-size": 8
       },
       "h2": {
        "color": "c5cc3653-2ee1-402a-aba2-7caae1da4f6c",
        "font-family": "Lato",
        "font-size": 6
       },
       "h3": {
        "color": "50f92c45-a630-455b-aec3-788680ec7410",
        "font-family": "Lato",
        "font-size": 5.5
       },
       "h4": {
        "color": "c5cc3653-2ee1-402a-aba2-7caae1da4f6c",
        "font-family": "Lato",
        "font-size": 5
       },
       "h5": {
        "font-family": "Lato"
       },
       "h6": {
        "font-family": "Lato"
       },
       "h7": {
        "font-family": "Lato"
       },
       "pre": {
        "font-family": "Anonymous Pro",
        "font-size": 4
       }
      },
      "text-base": {
       "font-family": "Merriweather",
       "font-size": 4
      }
     },
     "52e47231-9526-47e4-a88d-5687bed02d17": {
      "backgrounds": {
       "backgroundColor": {
        "background-color": "backgroundColor",
        "id": "backgroundColor"
       }
      },
      "id": "52e47231-9526-47e4-a88d-5687bed02d17",
      "palette": {
       "backgroundColor": {
        "id": "backgroundColor",
        "rgb": [
         247,
         251,
         252
        ]
       },
       "headingColor": {
        "id": "headingColor",
        "rgb": [
         51,
         51,
         51
        ]
       },
       "linkColor": {
        "id": "linkColor",
        "rgb": [
         59,
         117,
         158
        ]
       },
       "mainColor": {
        "id": "mainColor",
        "rgb": [
         51,
         51,
         51
        ]
       }
      },
      "rules": {
       "a": {
        "color": "linkColor"
       },
       "h1": {
        "color": "headingColor",
        "font-family": "Quicksand",
        "font-size": 7
       },
       "h2": {
        "color": "headingColor",
        "font-family": "Quicksand",
        "font-size": 5
       },
       "h3": {
        "color": "headingColor",
        "font-family": "Quicksand",
        "font-size": 3.75
       },
       "h4": {
        "color": "headingColor",
        "font-family": "Quicksand",
        "font-size": 3
       },
       "h5": {
        "color": "headingColor",
        "font-family": "Quicksand"
       },
       "h6": {
        "color": "headingColor",
        "font-family": "Quicksand"
       },
       "h7": {
        "color": "headingColor",
        "font-family": "Quicksand"
       },
       "li": {
        "color": "mainColor",
        "font-family": "Open Sans",
        "font-size": 5
       },
       "p": {
        "color": "mainColor",
        "font-family": "Open Sans",
        "font-size": 5
       }
      },
      "text-base": {
       "color": "mainColor",
       "font-family": "Open Sans",
       "font-size": 5
      }
     },
     "c571b9b5-5ca9-4444-a23f-c524cb7000f3": {
      "backgrounds": {
       "backgroundColor": {
        "background-color": "backgroundColor",
        "id": "backgroundColor"
       }
      },
      "id": "c571b9b5-5ca9-4444-a23f-c524cb7000f3",
      "palette": {
       "backgroundColor": {
        "id": "backgroundColor",
        "rgb": [
         247,
         251,
         252
        ]
       },
       "headingColor": {
        "id": "headingColor",
        "rgb": [
         51,
         51,
         51
        ]
       },
       "linkColor": {
        "id": "linkColor",
        "rgb": [
         59,
         117,
         158
        ]
       },
       "mainColor": {
        "id": "mainColor",
        "rgb": [
         51,
         51,
         51
        ]
       }
      },
      "rules": {
       "a": {
        "color": "linkColor"
       },
       "h1": {
        "color": "headingColor",
        "font-family": "Quicksand",
        "font-size": 7
       },
       "h2": {
        "color": "headingColor",
        "font-family": "Quicksand",
        "font-size": 5
       },
       "h3": {
        "color": "headingColor",
        "font-family": "Quicksand",
        "font-size": 3.75
       },
       "h4": {
        "color": "headingColor",
        "font-family": "Quicksand",
        "font-size": 3
       },
       "h5": {
        "color": "headingColor",
        "font-family": "Quicksand"
       },
       "h6": {
        "color": "headingColor",
        "font-family": "Quicksand"
       },
       "h7": {
        "color": "headingColor",
        "font-family": "Quicksand"
       },
       "li": {
        "color": "mainColor",
        "font-family": "Open Sans",
        "font-size": 5
       },
       "p": {
        "color": "mainColor",
        "font-family": "Open Sans",
        "font-size": 5
       }
      },
      "text-base": {
       "color": "mainColor",
       "font-family": "Open Sans",
       "font-size": 5
      }
     },
     "d20a818a-28b9-4195-b4c8-8121cf5d6398": {
      "backgrounds": {
       "backgroundColor": {
        "background-color": "backgroundColor",
        "id": "backgroundColor"
       }
      },
      "id": "d20a818a-28b9-4195-b4c8-8121cf5d6398",
      "palette": {
       "backgroundColor": {
        "id": "backgroundColor",
        "rgb": [
         247,
         251,
         252
        ]
       },
       "headingColor": {
        "id": "headingColor",
        "rgb": [
         51,
         51,
         51
        ]
       },
       "linkColor": {
        "id": "linkColor",
        "rgb": [
         59,
         117,
         158
        ]
       },
       "mainColor": {
        "id": "mainColor",
        "rgb": [
         51,
         51,
         51
        ]
       }
      },
      "rules": {
       "a": {
        "color": "linkColor"
       },
       "h1": {
        "color": "headingColor",
        "font-family": "Quicksand",
        "font-size": 7
       },
       "h2": {
        "color": "headingColor",
        "font-family": "Quicksand",
        "font-size": 5
       },
       "h3": {
        "color": "headingColor",
        "font-family": "Quicksand",
        "font-size": 3.75
       },
       "h4": {
        "color": "headingColor",
        "font-family": "Quicksand",
        "font-size": 3
       },
       "h5": {
        "color": "headingColor",
        "font-family": "Quicksand"
       },
       "h6": {
        "color": "headingColor",
        "font-family": "Quicksand"
       },
       "h7": {
        "color": "headingColor",
        "font-family": "Quicksand"
       },
       "li": {
        "color": "mainColor",
        "font-family": "Open Sans",
        "font-size": 5
       },
       "p": {
        "color": "mainColor",
        "font-family": "Open Sans",
        "font-size": 5
       }
      },
      "text-base": {
       "color": "mainColor",
       "font-family": "Open Sans",
       "font-size": 5
      }
     }
    }
   }
  }
 },
 "nbformat": 4,
 "nbformat_minor": 0
}
